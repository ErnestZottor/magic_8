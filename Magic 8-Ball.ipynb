{
 "cells": [
  {
   "cell_type": "code",
   "execution_count": 5,
   "id": "f574fcd8",
   "metadata": {
    "scrolled": true
   },
   "outputs": [
    {
     "name": "stdout",
     "output_type": "stream",
     "text": [
      "Ernest asks: Is there life after death?\n",
      "Magic 8-Ball's answer: Without a doubt.\n"
     ]
    }
   ],
   "source": [
    "import random\n",
    "\n",
    "name = \"Ernest\"\n",
    "question = \"Is there life after death?\"\n",
    "answer = \"\"\n",
    "random_number = random.randint(1,9)\n",
    "\n",
    "if random_number==1:\n",
    "    answer = \"Yes - definitely\"\n",
    "elif random_number==2:\n",
    "    answer= \"It is decidedly so.\"\n",
    "elif random_number==3:\n",
    "    answer= \"Without a doubt.\"\n",
    "elif random_number==4:\n",
    "    answer= \"Reply hazy, try again.\"\n",
    "elif random_number==5:\n",
    "    answer= \"Ask again later.\"\n",
    "elif random_number==6:\n",
    "    answer= \"Better not tell you now.\"\n",
    "elif random_number==7:\n",
    "    answer= \"My sources say no.\"\n",
    "elif random_number==8:\n",
    "    answer= \"Outlook not so good.\"\n",
    "elif random_number==9:\n",
    "    answer= \"Very doubtful.\"\n",
    "else:\n",
    "    answer= \"Error\"\n",
    "    \n",
    "print(name+ \" asks: \"+question)\n",
    "print(\"Magic 8-Ball's answer: \"+answer)\n"
   ]
  },
  {
   "cell_type": "code",
   "execution_count": null,
   "id": "36450a5b",
   "metadata": {},
   "outputs": [],
   "source": []
  }
 ],
 "metadata": {
  "kernelspec": {
   "display_name": "Python 3",
   "language": "python",
   "name": "python3"
  },
  "language_info": {
   "codemirror_mode": {
    "name": "ipython",
    "version": 3
   },
   "file_extension": ".py",
   "mimetype": "text/x-python",
   "name": "python",
   "nbconvert_exporter": "python",
   "pygments_lexer": "ipython3",
   "version": "3.8.8"
  }
 },
 "nbformat": 4,
 "nbformat_minor": 5
}
